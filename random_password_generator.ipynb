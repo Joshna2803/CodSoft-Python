{
  "nbformat": 4,
  "nbformat_minor": 0,
  "metadata": {
    "colab": {
      "provenance": []
    },
    "kernelspec": {
      "name": "python3",
      "display_name": "Python 3"
    },
    "language_info": {
      "name": "python"
    }
  },
  "cells": [
    {
      "cell_type": "code",
      "execution_count": 2,
      "metadata": {
        "colab": {
          "base_uri": "https://localhost:8080/"
        },
        "id": "h7oYT4kxzUrK",
        "outputId": "e120ef86-1f37-4944-cdf2-bf4e9dd2d8ec"
      },
      "outputs": [
        {
          "output_type": "stream",
          "name": "stdout",
          "text": [
            "Enter the length of the password: 8\n",
            "Your password is: xa)b8:!Y\n"
          ]
        }
      ],
      "source": [
        "import string\n",
        "import random\n",
        "\n",
        "characters=string.ascii_letters+string.digits+string.punctuation\n",
        "length=int(input(\"Enter the length of the password: \"))\n",
        "password=''.join(random.choices(characters,k=length))\n",
        "print(\"Your password is:\",password)"
      ]
    }
  ]
}